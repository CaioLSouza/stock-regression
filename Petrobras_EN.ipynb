{
 "cells": [
  {
   "cell_type": "markdown",
   "id": "8a5dd11d",
   "metadata": {},
   "source": [
    "# Stock Price Prediction - Petrobras S.A.\n",
    "\n",
    "The aim of this project is to build machine learning models in order to predict future stock prices for the brazilian company Petrobras S.A. For this, we use three tree-based machine learning models: regression trees, random forest and XGBoost.\n",
    "\n",
    "Authors: \n",
    "\n",
    "*Caio Lopes de Souza* \n",
    "\n",
    "*Gabriel Rodrigues Palma*\n",
    "\n",
    "*Silvio Sandoval Zocchi*"
   ]
  },
  {
   "cell_type": "markdown",
   "id": "b78cbc73",
   "metadata": {},
   "source": [
    "## Packages used in this project"
   ]
  },
  {
   "cell_type": "code",
   "execution_count": 65,
   "id": "4e49b458",
   "metadata": {},
   "outputs": [],
   "source": [
    "# data manipulation \n",
    "import numpy as np\n",
    "import pandas as pd\n",
    "\n",
    "# data extraction \n",
    "from yahooquery import Ticker \n",
    "\n",
    "# data visualization\n",
    "import matplotlib.pyplot as plt\n",
    "\n",
    "# machine learning models\n",
    "from sklearn.ensemble import RandomForestRegressor \n",
    "from xgboost import XGBRegressor \n",
    "\n",
    "# models performance metrics\n",
    "from sklearn.metrics import mean_squared_error\n",
    "\n",
    "# preprocessing\n",
    "from sklearn.preprocessing import StandardScaler"
   ]
  },
  {
   "cell_type": "markdown",
   "id": "66b069a9",
   "metadata": {},
   "source": [
    "## Functions used in this project"
   ]
  },
  {
   "cell_type": "code",
   "execution_count": 66,
   "id": "f4462078",
   "metadata": {},
   "outputs": [],
   "source": [
    "def open_data(path):\n",
    "    '''read a csv file and returns a dataframe'''\n",
    "    \n",
    "    dataframe = pd.read_csv(path, encoding='latin-1')\n",
    "    \n",
    "    return dataframe"
   ]
  },
  {
   "cell_type": "code",
   "execution_count": 67,
   "id": "a7dab56c",
   "metadata": {},
   "outputs": [],
   "source": [
    "def correct_data(dataframe, old_column, new_columns, split_point):\n",
    "    '''correct data formatting'''\n",
    "    \n",
    "    dataframe[new_columns] = dataframe[old_column].str.split(split_point, expand=True)\n",
    "    dataframe = dataframe.drop(old_column, axis=1)\n",
    "    \n",
    "    return dataframe"
   ]
  },
  {
   "cell_type": "code",
   "execution_count": 68,
   "id": "774855ef",
   "metadata": {},
   "outputs": [],
   "source": [
    "def correct_multindex(data, level, column_exclusion): \n",
    "    '''transform a multindex dataframe into a dataframe with only one index'''\n",
    "    \n",
    "    data = data.reset_index(level=level)\n",
    "    data = data.drop(column_exclusion, axis=1)\n",
    "    \n",
    "    return data"
   ]
  },
  {
   "cell_type": "code",
   "execution_count": 69,
   "id": "1f422ff6",
   "metadata": {},
   "outputs": [],
   "source": [
    "def convert_datatypes(dataframe, column_to_numeric, column_to_date):\n",
    "    '''change the datatype of two columns from object to numeric and date'''\n",
    "\n",
    "    dataframe[column_to_numeric] = pd.to_numeric(dataframe[column_to_numeric])\n",
    "    dataframe[column_to_date] = pd.to_datetime(dataframe[column_to_date], format='%d/%m/%Y')\n",
    "    \n",
    "    return dataframe"
   ]
  },
  {
   "cell_type": "code",
   "execution_count": 70,
   "id": "bbfb2ac5",
   "metadata": {},
   "outputs": [],
   "source": [
    "def line_plot(dataset, column_list, x_label, y_label, title):\n",
    "    '''plot a standardized line plot for a chosen variable from a dataset'''\n",
    "    color_list = ['blue', 'red', 'green']\n",
    "    \n",
    "    fig, ax = plt.subplots(figsize=(8, 3))\n",
    "    for column in column_list: \n",
    "        dataset[column].plot(color=color_list[column_list.index(column)], ax=ax)\n",
    "            \n",
    "        ax.set_label(x_label)\n",
    "        ax.set_ylabel(y_label)\n",
    "        ax.set_title(title)\n",
    "            \n",
    "        plt.tight_layout()"
   ]
  },
  {
   "cell_type": "code",
   "execution_count": 71,
   "id": "2badd8ab",
   "metadata": {},
   "outputs": [],
   "source": [
    "def plot_test_error(y, predictions, model):\n",
    "    '''plot the the real value of the response variable and its predictions by the model'''\n",
    "    predictions = pd.Series(predictions)\n",
    "    \n",
    "    fig, ax = plt.subplots(figsize=(10, 6))\n",
    "    \n",
    "    predictions.plot(ax=ax)\n",
    "    \n",
    "    y.plot(ax=ax)\n",
    "    \n",
    "    ax.legend(['Predictions', 'Actual Value'])\n",
    "    \n",
    "    ax.set_title(f\"Comparison between the actual value of the response variable and its correspondent prediction for the {model}\",)\n",
    "    \n",
    "    ax.set_xlabel('Date')\n",
    "    ax.set_ylabel('Value/Prediction')\n",
    "\n",
    "    plt.tight_layout()"
   ]
  },
  {
   "cell_type": "code",
   "execution_count": 72,
   "id": "18202574",
   "metadata": {},
   "outputs": [],
   "source": [
    "def training_test_split(X, y, starting_point = 0.8):\n",
    "    '''split a dataset into a training and test set for a chosen ratio'''\n",
    "    X_train = X.iloc[:round(starting_point * len(X))]\n",
    "    X_test = X.iloc[round(starting_point * len(X)):]\n",
    "    y_train = y.iloc[:round(starting_point * len(y))]\n",
    "    y_test = y.iloc[round(starting_point * len(y)):]\n",
    "    \n",
    "    return X_train, X_test, y_train, y_test"
   ]
  },
  {
   "cell_type": "code",
   "execution_count": 73,
   "id": "c4946dc4",
   "metadata": {},
   "outputs": [],
   "source": [
    "def one_step_ahead_forecasting(X, y, model, starting_point):\n",
    "    '''predict the next observation of a time series using as training set all the past observations'''\n",
    "    \n",
    "    predictions = np.array([])\n",
    "    \n",
    "    X_train, X_test, y_train, y_test = training_test_split(X, y, starting_point = starting_point)\n",
    "    model.fit(X_train.values, y_train.values)\n",
    "    \n",
    "    for i in range(len(X_test)):\n",
    "        predictions = np.append(predictions, (model.predict(X_test.iloc[i].values.reshape(1, -1))))\n",
    "        \n",
    "        X_train = pd.concat([X_train, X_test.iloc[i].to_frame().T])\n",
    "        y_train = np.append(y_train, y_test.iloc[i].reshape(1, -1))\n",
    "        \n",
    "        y_train = pd.Series(y_train)\n",
    "        \n",
    "        model.fit(X_train.values, y_train.values)\n",
    "        \n",
    "    return predictions"
   ]
  },
  {
   "cell_type": "code",
   "execution_count": 74,
   "id": "2c700404",
   "metadata": {},
   "outputs": [],
   "source": [
    "def one_step_ahead_forecasting_standard(X, y, model, starting_point):\n",
    "    '''predict the next observation of a time series using as training set all the past observations'''\n",
    "    \n",
    "    predictions = np.array([])\n",
    "    \n",
    "    X_train, X_test, y_train, y_test = training_test_split(X, y, starting_point = starting_point)\n",
    "    \n",
    "    scaler = StandardScaler()\n",
    "    scaler.fit(X_train)\n",
    "    X_train = scaler.transform(X_train)\n",
    "    \n",
    "    X_test = scaler.transform(X_test)\n",
    " \n",
    "    model.fit(X_train, y_train.values)\n",
    "    \n",
    "    for i in range(len(X_test)):\n",
    "        X_test.iloc[i] = scaler.transform(X_test.iloc[i])\n",
    "        \n",
    "        predictions = np.append(predictions, (model.predict(X_test.iloc[i].values.reshape(1, -1))))\n",
    "        \n",
    "        X_train = pd.concat([X_train, X_test.iloc[i].to_frame().T])\n",
    "        y_train = np.append(y_train, y_test.iloc[i].reshape(1, -1))\n",
    "        \n",
    "        y_train = pd.Series(y_train)\n",
    "        \n",
    "        model.fit(X_train, y_train.values)\n",
    "        \n",
    "    return predictions"
   ]
  },
  {
   "cell_type": "markdown",
   "id": "75babb5c",
   "metadata": {},
   "source": [
    "## Data gathering and manipulation"
   ]
  },
  {
   "cell_type": "markdown",
   "id": "145813fe",
   "metadata": {},
   "source": [
    "###  Stock Prices"
   ]
  },
  {
   "cell_type": "markdown",
   "id": "d759fb7a",
   "metadata": {},
   "source": [
    "#### Data Gathering"
   ]
  },
  {
   "cell_type": "code",
   "execution_count": 75,
   "id": "68e0f53c",
   "metadata": {},
   "outputs": [],
   "source": [
    "stock = Ticker(\"PETR4.SA\")\n",
    "stock = stock.history(period=\"max\")"
   ]
  },
  {
   "cell_type": "code",
   "execution_count": 76,
   "id": "5dd0735f",
   "metadata": {},
   "outputs": [],
   "source": [
    "stock_price = stock['close']\n",
    "stock_price = pd.DataFrame(stock_price, columns =['close'])"
   ]
  },
  {
   "cell_type": "markdown",
   "id": "40d69c45",
   "metadata": {},
   "source": [
    "#### Data manipulation"
   ]
  },
  {
   "cell_type": "code",
   "execution_count": 77,
   "id": "98e8f7f2",
   "metadata": {},
   "outputs": [],
   "source": [
    "stock_price = correct_multindex(stock_price, level=[0, 1], column_exclusion = 'symbol')"
   ]
  },
  {
   "cell_type": "code",
   "execution_count": 78,
   "id": "6201452a",
   "metadata": {},
   "outputs": [],
   "source": [
    "stock_price = stock_price.drop(stock_price.tail(1).index)"
   ]
  },
  {
   "cell_type": "code",
   "execution_count": 79,
   "id": "c44fc4e5",
   "metadata": {},
   "outputs": [],
   "source": [
    "stock_price = convert_datatypes(stock_price, column_to_numeric = 'close', column_to_date='date')"
   ]
  },
  {
   "cell_type": "code",
   "execution_count": 80,
   "id": "b893c6b1",
   "metadata": {},
   "outputs": [],
   "source": [
    "stock_price = stock_price.rename(columns={\"date\": \"Date\", \"close\": \"Close_price\"})"
   ]
  },
  {
   "cell_type": "code",
   "execution_count": 81,
   "id": "d97e3bc8",
   "metadata": {},
   "outputs": [
    {
     "data": {
      "text/html": [
       "<div>\n",
       "<style scoped>\n",
       "    .dataframe tbody tr th:only-of-type {\n",
       "        vertical-align: middle;\n",
       "    }\n",
       "\n",
       "    .dataframe tbody tr th {\n",
       "        vertical-align: top;\n",
       "    }\n",
       "\n",
       "    .dataframe thead th {\n",
       "        text-align: right;\n",
       "    }\n",
       "</style>\n",
       "<table border=\"1\" class=\"dataframe\">\n",
       "  <thead>\n",
       "    <tr style=\"text-align: right;\">\n",
       "      <th></th>\n",
       "      <th>Date</th>\n",
       "      <th>Close_price</th>\n",
       "    </tr>\n",
       "  </thead>\n",
       "  <tbody>\n",
       "    <tr>\n",
       "      <th>0</th>\n",
       "      <td>2000-01-03</td>\n",
       "      <td>5.875000</td>\n",
       "    </tr>\n",
       "    <tr>\n",
       "      <th>1</th>\n",
       "      <td>2000-01-04</td>\n",
       "      <td>5.550000</td>\n",
       "    </tr>\n",
       "    <tr>\n",
       "      <th>2</th>\n",
       "      <td>2000-01-05</td>\n",
       "      <td>5.494000</td>\n",
       "    </tr>\n",
       "    <tr>\n",
       "      <th>3</th>\n",
       "      <td>2000-01-06</td>\n",
       "      <td>5.475000</td>\n",
       "    </tr>\n",
       "    <tr>\n",
       "      <th>4</th>\n",
       "      <td>2000-01-07</td>\n",
       "      <td>5.500000</td>\n",
       "    </tr>\n",
       "    <tr>\n",
       "      <th>...</th>\n",
       "      <td>...</td>\n",
       "      <td>...</td>\n",
       "    </tr>\n",
       "    <tr>\n",
       "      <th>5948</th>\n",
       "      <td>2023-09-05</td>\n",
       "      <td>33.369999</td>\n",
       "    </tr>\n",
       "    <tr>\n",
       "      <th>5949</th>\n",
       "      <td>2023-09-06</td>\n",
       "      <td>33.520000</td>\n",
       "    </tr>\n",
       "    <tr>\n",
       "      <th>5950</th>\n",
       "      <td>2023-09-08</td>\n",
       "      <td>33.400002</td>\n",
       "    </tr>\n",
       "    <tr>\n",
       "      <th>5951</th>\n",
       "      <td>2023-09-11</td>\n",
       "      <td>33.369999</td>\n",
       "    </tr>\n",
       "    <tr>\n",
       "      <th>5952</th>\n",
       "      <td>2023-09-12</td>\n",
       "      <td>33.529999</td>\n",
       "    </tr>\n",
       "  </tbody>\n",
       "</table>\n",
       "<p>5953 rows × 2 columns</p>\n",
       "</div>"
      ],
      "text/plain": [
       "           Date  Close_price\n",
       "0    2000-01-03     5.875000\n",
       "1    2000-01-04     5.550000\n",
       "2    2000-01-05     5.494000\n",
       "3    2000-01-06     5.475000\n",
       "4    2000-01-07     5.500000\n",
       "...         ...          ...\n",
       "5948 2023-09-05    33.369999\n",
       "5949 2023-09-06    33.520000\n",
       "5950 2023-09-08    33.400002\n",
       "5951 2023-09-11    33.369999\n",
       "5952 2023-09-12    33.529999\n",
       "\n",
       "[5953 rows x 2 columns]"
      ]
     },
     "execution_count": 81,
     "metadata": {},
     "output_type": "execute_result"
    }
   ],
   "source": [
    "stock_price"
   ]
  },
  {
   "cell_type": "markdown",
   "id": "05286a1d",
   "metadata": {},
   "source": [
    "### Exchange rate \n",
    "\n",
    "Here, we use the commercial free float exchange rates between the brazilian Real and the american Dollar. It shows the a daly data between 11/28/1984 and 06/30/2023. The brazilian Central Bank computes this rate through the refference rate \"PTAX\".\n",
    "\n",
    "* PTAX Methodology: http://www.ipeadata.gov.br/doc/EE042_A_taxa_de_cambio_de_referencia_Ptax.pdf\n",
    "\n",
    "* Link for the data source: https://www3.bcb.gov.br/sgspub/consultarvalores/consultarValoresSeries.do?method=getPagina "
   ]
  },
  {
   "cell_type": "markdown",
   "id": "8d17c045",
   "metadata": {},
   "source": [
    "#### Data gathering"
   ]
  },
  {
   "cell_type": "code",
   "execution_count": 82,
   "id": "9509a6a1",
   "metadata": {},
   "outputs": [],
   "source": [
    "exchange_rate = open_data(r\"C:\\Users\\caiol\\Petrobras S.A\\Dados_input\\Câmbio_diário(1984-2023)_v2.csv\")"
   ]
  },
  {
   "cell_type": "markdown",
   "id": "8145cd53",
   "metadata": {},
   "source": [
    "#### Data manipulation "
   ]
  },
  {
   "cell_type": "code",
   "execution_count": 83,
   "id": "638fa90e",
   "metadata": {},
   "outputs": [],
   "source": [
    "exchange_rate = correct_data(exchange_rate, 'Data;Cambio', ['Date', 'Exchange_rate'], ';')"
   ]
  },
  {
   "cell_type": "code",
   "execution_count": null,
   "id": "53764870",
   "metadata": {},
   "outputs": [],
   "source": [
    "exchange_rate"
   ]
  },
  {
   "cell_type": "code",
   "execution_count": null,
   "id": "a0243c28",
   "metadata": {},
   "outputs": [],
   "source": [
    "exchange_rate = convert_datatypes(exchange_rate, column_to_numeric = 'Exchange_rate', column_to_date = 'Date')"
   ]
  },
  {
   "cell_type": "code",
   "execution_count": null,
   "id": "d018cb81",
   "metadata": {},
   "outputs": [],
   "source": [
    "exchange_rate.head()"
   ]
  },
  {
   "cell_type": "markdown",
   "id": "8f1707b2",
   "metadata": {},
   "source": [
    "### Interest Rates (SELIC)\n",
    "\n",
    "The most basic and important interest rate in Brazil is the SELIC rate, which is the rediscount rate for the brazilian economy and has an influence over all other interest rates in the country."
   ]
  },
  {
   "cell_type": "markdown",
   "id": "b619f0b3",
   "metadata": {},
   "source": [
    "#### Data gathering"
   ]
  },
  {
   "cell_type": "code",
   "execution_count": null,
   "id": "297da55c",
   "metadata": {},
   "outputs": [],
   "source": [
    "selic = open_data(r\"C:\\Users\\caiol\\Petrobras S.A\\Dados_input\\SELIC(2000-2023).csv\")"
   ]
  },
  {
   "cell_type": "markdown",
   "id": "1e4abbf4",
   "metadata": {},
   "source": [
    "#### Data manipulation"
   ]
  },
  {
   "cell_type": "code",
   "execution_count": null,
   "id": "57aa3e74",
   "metadata": {},
   "outputs": [],
   "source": [
    "selic = correct_data(selic, 'Data;Selic', ['Date', 'Selic'], ';')"
   ]
  },
  {
   "cell_type": "code",
   "execution_count": null,
   "id": "3b344a8e",
   "metadata": {},
   "outputs": [],
   "source": [
    "selic = convert_datatypes(selic, column_to_numeric = 'Selic', column_to_date = 'Date')"
   ]
  },
  {
   "cell_type": "code",
   "execution_count": null,
   "id": "7f4bd750",
   "metadata": {},
   "outputs": [],
   "source": [
    "selic.head()"
   ]
  },
  {
   "cell_type": "markdown",
   "id": "5bbb5e51",
   "metadata": {},
   "source": [
    "### Oil Price"
   ]
  },
  {
   "cell_type": "markdown",
   "id": "ef548c14",
   "metadata": {},
   "source": [
    "#### Data gathering"
   ]
  },
  {
   "cell_type": "code",
   "execution_count": null,
   "id": "8ed68fb5",
   "metadata": {},
   "outputs": [],
   "source": [
    "oil = open_data(r\"C:\\Users\\caiol\\Petrobras S.A\\Dados_input\\petróleo_preço(1987-2023).csv\")"
   ]
  },
  {
   "cell_type": "markdown",
   "id": "951d1b5c",
   "metadata": {},
   "source": [
    "#### Data manipulation"
   ]
  },
  {
   "cell_type": "code",
   "execution_count": null,
   "id": "3b9cb68a",
   "metadata": {},
   "outputs": [],
   "source": [
    "oil = correct_data(oil, 'Data;Preço do petróleo brent(dólares/barril)', ['Date', 'Oil_price'], ';')"
   ]
  },
  {
   "cell_type": "code",
   "execution_count": null,
   "id": "b7f96d8a",
   "metadata": {},
   "outputs": [],
   "source": [
    "oil = convert_datatypes(oil, column_to_numeric = 'Oil_price', column_to_date = 'Date')"
   ]
  },
  {
   "cell_type": "code",
   "execution_count": null,
   "id": "0ac8dc25",
   "metadata": {},
   "outputs": [],
   "source": [
    "oil.head()"
   ]
  },
  {
   "cell_type": "markdown",
   "id": "c67055c5",
   "metadata": {},
   "source": [
    "### Merging all together"
   ]
  },
  {
   "cell_type": "code",
   "execution_count": null,
   "id": "19451646",
   "metadata": {},
   "outputs": [],
   "source": [
    "data_list = [stock_price, exchange_rate, selic, oil]"
   ]
  },
  {
   "cell_type": "code",
   "execution_count": null,
   "id": "90c4d651",
   "metadata": {},
   "outputs": [],
   "source": [
    "dataset = stock_price.merge(exchange_rate, on='Date')\n",
    "dataset = dataset.merge(selic, on='Date')\n",
    "dataset = dataset.merge(oil, on='Date')"
   ]
  },
  {
   "cell_type": "code",
   "execution_count": null,
   "id": "823b9bb9",
   "metadata": {},
   "outputs": [],
   "source": [
    "dataset.index = dataset['Date']\n",
    "\n",
    "dataset = dataset.drop('Date', axis=1)"
   ]
  },
  {
   "cell_type": "code",
   "execution_count": null,
   "id": "8c2a3a82",
   "metadata": {},
   "outputs": [],
   "source": [
    "dataset.head()"
   ]
  },
  {
   "cell_type": "code",
   "execution_count": null,
   "id": "bf46ab43",
   "metadata": {},
   "outputs": [],
   "source": [
    "dataset.to_csv('petrobras_data.csv')"
   ]
  },
  {
   "cell_type": "markdown",
   "id": "b7bbaa6c",
   "metadata": {},
   "source": [
    "### Exploratory Data Analysis"
   ]
  },
  {
   "cell_type": "code",
   "execution_count": null,
   "id": "d704a1dd",
   "metadata": {},
   "outputs": [],
   "source": [
    "font = {\n",
    "    'family': 'serif',\n",
    "    'color': 'black',\n",
    "    'weight': 'normal',\n",
    "    'size': 10\n",
    "}"
   ]
  },
  {
   "cell_type": "code",
   "execution_count": null,
   "id": "c42a8a85",
   "metadata": {},
   "outputs": [],
   "source": [
    "def line_plot(dataset, column_list, x_label, y_label, title):\n",
    "    color_list = ['blue', 'red', 'green']\n",
    "    \n",
    "    fig, ax = plt.subplots(figsize=(8, 3))\n",
    "    for column in column_list: \n",
    "        dataset[column].plot(color=color_list[column_list.index(column)], ax=ax)\n",
    "            \n",
    "        ax.set_label(x_label)\n",
    "        ax.set_ylabel(y_label)\n",
    "        ax.set_title(title)\n",
    "            \n",
    "        plt.tight_layout()"
   ]
  },
  {
   "cell_type": "markdown",
   "id": "edaeb6db",
   "metadata": {},
   "source": [
    "#### Data Visualization"
   ]
  },
  {
   "cell_type": "code",
   "execution_count": null,
   "id": "a12c8012",
   "metadata": {},
   "outputs": [],
   "source": [
    "line_plot(dataset, column_list = ['Close_price'], x_label='Time (days)', y_label='Stock Price',\n",
    "          title = 'Stock Price of Petrobras S.A. (2000-2023)')"
   ]
  },
  {
   "cell_type": "code",
   "execution_count": null,
   "id": "2efb7526",
   "metadata": {},
   "outputs": [],
   "source": [
    "plt.figure(figsize=(15, 10))\n",
    "\n",
    "for i, data in enumerate(dataset.columns, 1):\n",
    "    plt.subplot(2, 2, i)\n",
    "    dataset[data].plot()\n",
    "    plt.xlabel(\"Date\")\n",
    "    plt.ylabel(\"Value\")\n",
    "    plt.title(f\"{data} time series\")\n",
    "plt.tight_layout()"
   ]
  },
  {
   "cell_type": "markdown",
   "id": "0a329ce0",
   "metadata": {},
   "source": [
    "### Training-test Split"
   ]
  },
  {
   "cell_type": "code",
   "execution_count": null,
   "id": "38ecedcd",
   "metadata": {},
   "outputs": [],
   "source": [
    "X = dataset.drop('Close_price', axis=1)\n",
    "y = dataset['Close_price']"
   ]
  },
  {
   "cell_type": "code",
   "execution_count": null,
   "id": "7e6e5a48",
   "metadata": {},
   "outputs": [],
   "source": [
    "X_train, X_test, y_train, y_test = training_test_split(X, y)"
   ]
  },
  {
   "cell_type": "markdown",
   "id": "e55f3089",
   "metadata": {},
   "source": [
    "### A naive model \n",
    "\n",
    "For a naive model, which will be used to compare the performance of the other models, we'll consider the value of the estimate for the response variable as being equal to the value of the response variable in the past day. In other words,  $\\hat{y}_{t+1} = y_{t}$"
   ]
  },
  {
   "cell_type": "code",
   "execution_count": null,
   "id": "919f7f5a",
   "metadata": {},
   "outputs": [],
   "source": []
  },
  {
   "cell_type": "code",
   "execution_count": null,
   "id": "ed0882d1",
   "metadata": {},
   "outputs": [],
   "source": [
    "dataset['price_lag_1'] = dataset['Close_price'].shift(1)\n",
    "dataset = dataset.drop(dataset.head(1).index, axis=0)"
   ]
  },
  {
   "cell_type": "code",
   "execution_count": null,
   "id": "d1bd0b22",
   "metadata": {},
   "outputs": [],
   "source": [
    "X_lag = dataset['price_lag_1']\n",
    "y_lag = dataset['Close_price']"
   ]
  },
  {
   "cell_type": "code",
   "execution_count": null,
   "id": "44888747",
   "metadata": {},
   "outputs": [],
   "source": [
    "X_lag_2 = pd.DataFrame(X_lag)\n",
    "y_lag_2 = pd.DataFrame(y_lag) "
   ]
  },
  {
   "cell_type": "code",
   "execution_count": null,
   "id": "0199a546",
   "metadata": {},
   "outputs": [],
   "source": [
    "lag = pd.concat([X_lag_2, y_lag_2])\n",
    "lag"
   ]
  },
  {
   "cell_type": "code",
   "execution_count": null,
   "id": "f54dea65",
   "metadata": {},
   "outputs": [],
   "source": [
    "X_train_lag, X_test_lag, y_train_lag, y_test_lag = training_test_split(X_lag, y_lag)"
   ]
  },
  {
   "cell_type": "code",
   "execution_count": null,
   "id": "16020a06",
   "metadata": {},
   "outputs": [],
   "source": [
    "mean_squared_error(X_test_lag, y_test_lag)"
   ]
  },
  {
   "cell_type": "code",
   "execution_count": null,
   "id": "0b6a89cb",
   "metadata": {},
   "outputs": [],
   "source": [
    "plot_test_error(y = y_test, predictions = y_test_lag, model = \"Regression Tree\")"
   ]
  },
  {
   "cell_type": "code",
   "execution_count": null,
   "id": "f7ec80b9",
   "metadata": {},
   "outputs": [],
   "source": [
    "dataset = dataset.drop('price_lag_1', axis=1)"
   ]
  },
  {
   "cell_type": "markdown",
   "id": "39639aff",
   "metadata": {},
   "source": [
    "#### Fixing the dataset"
   ]
  },
  {
   "cell_type": "code",
   "execution_count": null,
   "id": "72e35463",
   "metadata": {},
   "outputs": [],
   "source": [
    "dataset['Close_price'] = dataset['Close_price'].shift(1)\n",
    "dataset = dataset.dropna()"
   ]
  },
  {
   "cell_type": "code",
   "execution_count": null,
   "id": "f6e395d9",
   "metadata": {},
   "outputs": [],
   "source": [
    "y = dataset['Close_price']\n",
    "X = dataset.drop('Close_price', axis=1)"
   ]
  },
  {
   "cell_type": "code",
   "execution_count": null,
   "id": "c63f39ab",
   "metadata": {},
   "outputs": [],
   "source": [
    "X_train, X_test, y_train, y_test = training_test_split(X, y)"
   ]
  },
  {
   "cell_type": "markdown",
   "id": "779bb6c7",
   "metadata": {},
   "source": [
    "#### Regression Tree (multiple starting points)"
   ]
  },
  {
   "cell_type": "code",
   "execution_count": null,
   "id": "5a75b702",
   "metadata": {},
   "outputs": [],
   "source": [
    "from sklearn.tree import DecisionTreeRegressor\n",
    "reg_tree = DecisionTreeRegressor(random_state=42)"
   ]
  },
  {
   "cell_type": "code",
   "execution_count": null,
   "id": "c9671c75",
   "metadata": {},
   "outputs": [],
   "source": [
    "tree_results = {}\n",
    "\n",
    "for starting_point in range(20, 100, 20):\n",
    "    X_train, X_test, y_train, y_test = training_test_split(X, y, starting_point = (starting_point/100))\n",
    "    tree_prediction = one_step_ahead_forecasting(X = X, y = y, model = reg_tree,\n",
    "                                                       starting_point = (starting_point/100))\n",
    "    \n",
    "    \n",
    "    tree_results[starting_point] = mean_squared_error(y_test, tree_prediction)"
   ]
  },
  {
   "cell_type": "code",
   "execution_count": null,
   "id": "54c630a8",
   "metadata": {},
   "outputs": [],
   "source": [
    "tree_results"
   ]
  },
  {
   "cell_type": "markdown",
   "id": "4d5b408d",
   "metadata": {},
   "source": [
    "### Regression Tree"
   ]
  },
  {
   "cell_type": "code",
   "execution_count": null,
   "id": "354310a3",
   "metadata": {},
   "outputs": [],
   "source": [
    "X_train, X_test, y_train, y_test = training_test_split(X, y, starting_point = 0.6)"
   ]
  },
  {
   "cell_type": "code",
   "execution_count": null,
   "id": "9413b6a0",
   "metadata": {},
   "outputs": [],
   "source": [
    "tree_predictions = one_step_ahead_forecasting(X = X, y = y, model = reg_tree ,starting_point=0.6)"
   ]
  },
  {
   "cell_type": "code",
   "execution_count": null,
   "id": "c33c1202",
   "metadata": {},
   "outputs": [],
   "source": [
    "tree_predictions = pd.Series(tree_predictions, index = y_test.index)"
   ]
  },
  {
   "cell_type": "code",
   "execution_count": null,
   "id": "1c032dd0",
   "metadata": {},
   "outputs": [],
   "source": [
    "print(f\"The MSE for the model is {mean_squared_error(y_test, tree_predictions)}\")"
   ]
  },
  {
   "cell_type": "code",
   "execution_count": null,
   "id": "b599a048",
   "metadata": {},
   "outputs": [],
   "source": [
    "plot_test_error(y = y_test, predictions = tree_predictions, model = \"Regression Tree\")"
   ]
  },
  {
   "cell_type": "code",
   "execution_count": null,
   "id": "fb7fb590",
   "metadata": {},
   "outputs": [],
   "source": [
    "def residual_plot(y_test, predictions):\n",
    "    residual = predictions - y_test\n",
    "\n",
    "    fig, ax = plt.subplots(figsize=(10,6))\n",
    "    \n",
    "    residual.plot(ax=ax)\n",
    "    \n",
    "    "
   ]
  },
  {
   "cell_type": "code",
   "execution_count": null,
   "id": "f6a176da",
   "metadata": {},
   "outputs": [],
   "source": [
    "residual_plot(y_test, tree_predictions)"
   ]
  },
  {
   "cell_type": "markdown",
   "id": "248d98d9",
   "metadata": {},
   "source": [
    "### Random Forest"
   ]
  },
  {
   "cell_type": "code",
   "execution_count": null,
   "id": "7aaf84c5",
   "metadata": {},
   "outputs": [],
   "source": [
    "rf_reg = RandomForestRegressor(max_depth = 10, random_state=42)"
   ]
  },
  {
   "cell_type": "code",
   "execution_count": null,
   "id": "1dadf21e",
   "metadata": {},
   "outputs": [],
   "source": [
    "rf_predictions = one_step_ahead_forecasting(X = X, y = y, model = rf_reg, starting_point = 0.6)"
   ]
  },
  {
   "cell_type": "code",
   "execution_count": null,
   "id": "2ab659e9",
   "metadata": {},
   "outputs": [],
   "source": [
    "mean_squared_error(y_test, rf_predictions)"
   ]
  },
  {
   "cell_type": "code",
   "execution_count": null,
   "id": "39194d24",
   "metadata": {},
   "outputs": [],
   "source": [
    "rf_predictions = pd.Series(rf_predictions, index=y_test.index)"
   ]
  },
  {
   "cell_type": "markdown",
   "id": "340418ad",
   "metadata": {},
   "source": [
    "### Grid Search for Random Forest"
   ]
  },
  {
   "cell_type": "code",
   "execution_count": null,
   "id": "0e0f0cfc",
   "metadata": {},
   "outputs": [],
   "source": [
    "n_estimators = [i for i in range(100, 1000, 100)]\n",
    "max_depth = [i for i in range(10, 100, 10)]\n",
    "min_samples_split = [i for i in range(2, 12, 2)]\n",
    "\n",
    "rf_parameters = {}"
   ]
  },
  {
   "cell_type": "markdown",
   "id": "75b13775",
   "metadata": {},
   "source": [
    "#### MSE"
   ]
  },
  {
   "cell_type": "code",
   "execution_count": null,
   "id": "ea51714a",
   "metadata": {},
   "outputs": [],
   "source": [
    "print(f\"The MSE for the model is {mean_squared_error(y_test, rf_predictions)}\")"
   ]
  },
  {
   "cell_type": "markdown",
   "id": "339242d0",
   "metadata": {},
   "source": [
    "#### Performance visualization"
   ]
  },
  {
   "cell_type": "code",
   "execution_count": null,
   "id": "e8f853bb",
   "metadata": {},
   "outputs": [],
   "source": [
    "plot_test_error(y = y_test, predictions = rf_predictions, model = \"Random Forest\")"
   ]
  },
  {
   "cell_type": "markdown",
   "id": "85e91b3b",
   "metadata": {},
   "source": [
    "#### Random Forest (multiple starting points)"
   ]
  },
  {
   "cell_type": "code",
   "execution_count": null,
   "id": "6769e29a",
   "metadata": {},
   "outputs": [],
   "source": [
    "rf_results = {}\n",
    "\n",
    "for starting_point in range(20, 100, 20):\n",
    "    X_train, y_train, X_test, y_test = training_test_split(X, y, starting_point = (starting_point/100))\n",
    "    rf_prediction = one_step_ahead_forecasting(X = X, y = y, model = rf_reg,\n",
    "                                                       starting_point = (starting_point/100))\n",
    "    \n",
    "    \n",
    "    rf_results[starting_point] = mean_squared_error(y_test, rf_prediction)"
   ]
  },
  {
   "cell_type": "code",
   "execution_count": null,
   "id": "a37681df",
   "metadata": {},
   "outputs": [],
   "source": [
    "rf_results"
   ]
  },
  {
   "cell_type": "markdown",
   "id": "6e4caf0f",
   "metadata": {},
   "source": [
    "### XGBoost"
   ]
  },
  {
   "cell_type": "code",
   "execution_count": null,
   "id": "650bc4c6",
   "metadata": {},
   "outputs": [],
   "source": [
    "xgb = XGBRegressor()"
   ]
  },
  {
   "cell_type": "markdown",
   "id": "aad4301c",
   "metadata": {},
   "source": [
    "#### Fit"
   ]
  },
  {
   "cell_type": "code",
   "execution_count": null,
   "id": "595af936",
   "metadata": {},
   "outputs": [],
   "source": [
    "xgb_predictions = one_step_ahead_forecasting(X = X, y = y, model = xgb, starting_point = 0.6)"
   ]
  },
  {
   "cell_type": "code",
   "execution_count": null,
   "id": "642bea07",
   "metadata": {},
   "outputs": [],
   "source": [
    "xgb_predictions = pd.Series(xgb_predictions, index=X_test.index)"
   ]
  },
  {
   "cell_type": "code",
   "execution_count": null,
   "id": "4165ebb8",
   "metadata": {},
   "outputs": [],
   "source": [
    "mean_squared_error(y_test, xgb_predictions)"
   ]
  },
  {
   "cell_type": "markdown",
   "id": "daa27695",
   "metadata": {},
   "source": [
    "#### Performance visualization"
   ]
  },
  {
   "cell_type": "code",
   "execution_count": null,
   "id": "e2a01689",
   "metadata": {},
   "outputs": [],
   "source": [
    "plot_test_error(y = y_test, predictions = xgb_predictions, model = \"XGBoost\")"
   ]
  },
  {
   "cell_type": "markdown",
   "id": "a458e7d4",
   "metadata": {},
   "source": [
    "#### XGBoost (multiple starting points)"
   ]
  },
  {
   "cell_type": "code",
   "execution_count": null,
   "id": "c338bf10",
   "metadata": {},
   "outputs": [],
   "source": [
    "xgb_results = {}\n",
    "\n",
    "for starting_point in range(20, 100, 20):\n",
    "    X_train, y_train, X_test, y_test = training_test_split(X, y, starting_point = (starting_point/100))\n",
    "    xgb_prediction = one_step_ahead_forecasting(X = X, y = y, model = xgb,\n",
    "                                                       starting_point = (starting_point/100))\n",
    "    \n",
    "    \n",
    "    xgb_results[starting_point] = mean_squared_error(y_test, xgb_prediction)"
   ]
  },
  {
   "cell_type": "markdown",
   "id": "775a253d",
   "metadata": {},
   "source": [
    "### Adding lags"
   ]
  },
  {
   "cell_type": "code",
   "execution_count": null,
   "id": "770b0faa",
   "metadata": {},
   "outputs": [],
   "source": [
    "for i in range(1, 9, 2):\n",
    "    dataset[f\"price_lag_{i}\"] = dataset['Close_price'].shift(i)\n",
    "dataset = dataset.dropna(axis=0)"
   ]
  },
  {
   "cell_type": "code",
   "execution_count": null,
   "id": "24ba01f4",
   "metadata": {},
   "outputs": [],
   "source": [
    "dataset.head()"
   ]
  },
  {
   "cell_type": "code",
   "execution_count": null,
   "id": "68cf1c1a",
   "metadata": {},
   "outputs": [],
   "source": [
    "y = dataset['Close_price']\n",
    "X = dataset.drop('Close_price', axis=1)\n",
    "\n",
    "X_only_lag = X.drop(['Exchange_rate', 'Selic', 'Oil_price'], axis=1)"
   ]
  },
  {
   "cell_type": "code",
   "execution_count": null,
   "id": "7bb73121",
   "metadata": {},
   "outputs": [],
   "source": [
    "X_train, X_test, y_train, y_test = training_test_split(X, y, starting_point = 0.6)"
   ]
  },
  {
   "cell_type": "markdown",
   "id": "2b1f03c1",
   "metadata": {},
   "source": [
    "### Regression Tree with Lag"
   ]
  },
  {
   "cell_type": "code",
   "execution_count": null,
   "id": "2140b51d",
   "metadata": {},
   "outputs": [],
   "source": [
    "tree_lag_predictions = one_step_ahead_forecasting(X = X, y = y, model = reg_tree ,starting_point=0.6)"
   ]
  },
  {
   "cell_type": "code",
   "execution_count": null,
   "id": "c0e0a94d",
   "metadata": {},
   "outputs": [],
   "source": [
    "tree_lag_predictions = pd.Series(tree_lag_predictions, index = y_test.index)"
   ]
  },
  {
   "cell_type": "code",
   "execution_count": null,
   "id": "da2e9a84",
   "metadata": {},
   "outputs": [],
   "source": [
    "mean_squared_error(y_test, tree_lag_predictions)"
   ]
  },
  {
   "cell_type": "markdown",
   "id": "abf41419",
   "metadata": {},
   "source": [
    "### Regression tree only lags"
   ]
  },
  {
   "cell_type": "code",
   "execution_count": null,
   "id": "b7450148",
   "metadata": {},
   "outputs": [],
   "source": [
    "X = X.drop(['Exchange_rate', 'Selic', 'Oil_price'], axis=1)"
   ]
  },
  {
   "cell_type": "code",
   "execution_count": null,
   "id": "bf5d481f",
   "metadata": {},
   "outputs": [],
   "source": [
    "tree_only_lag_predictions = one_step_ahead_forecasting(X = X_only_lag, y = y, model = reg_tree, starting_point = 0.6)"
   ]
  },
  {
   "cell_type": "code",
   "execution_count": null,
   "id": "c35bb79e",
   "metadata": {},
   "outputs": [],
   "source": [
    "tree_only_lag_predictions = pd.Series(tree_only_lag_predictions, index = y_test.index)"
   ]
  },
  {
   "cell_type": "code",
   "execution_count": null,
   "id": "8fee16c1",
   "metadata": {},
   "outputs": [],
   "source": [
    "mean_squared_error(y_test, tree_only_lag_predictions)"
   ]
  },
  {
   "cell_type": "markdown",
   "id": "d1d01af8",
   "metadata": {},
   "source": [
    "### Random Forest with Lags"
   ]
  },
  {
   "cell_type": "code",
   "execution_count": null,
   "id": "7c1b0262",
   "metadata": {},
   "outputs": [],
   "source": [
    "rf_lag_predictions = one_step_ahead_forecasting(X = X, y = y, model = rf_reg, starting_point = 0.6)"
   ]
  },
  {
   "cell_type": "code",
   "execution_count": null,
   "id": "ba31d32a",
   "metadata": {},
   "outputs": [],
   "source": [
    "rf_lag_predictions = pd.Series(rf_lag_predictions, index = y_test.index)\n",
    "mean_squared_error(y_test, rf_lag_predictions)"
   ]
  },
  {
   "cell_type": "markdown",
   "id": "66fc8ce2",
   "metadata": {},
   "source": [
    "### Random Forest only with Lags"
   ]
  },
  {
   "cell_type": "code",
   "execution_count": null,
   "id": "a0d4533f",
   "metadata": {},
   "outputs": [],
   "source": [
    "rf_only_lag_predictions = one_step_ahead_forecasting(X = X_only_lag, y = y,\n",
    "                                                     model = rf_reg, starting_point = 0.6)"
   ]
  },
  {
   "cell_type": "code",
   "execution_count": null,
   "id": "044abc77",
   "metadata": {},
   "outputs": [],
   "source": [
    "rf_only_lag_predictions = pd.Series(rf_only_lag_predictions, index = y_test.index)\n",
    "mean_squared_error(y_test,)"
   ]
  },
  {
   "cell_type": "markdown",
   "id": "873c6054",
   "metadata": {},
   "source": [
    "### Xgboost with lag"
   ]
  },
  {
   "cell_type": "code",
   "execution_count": null,
   "id": "a2424c57",
   "metadata": {},
   "outputs": [],
   "source": [
    "xgb_lag_predictions = one_step_ahead_forecasting(X = X, y = y, model = xgb, starting_point = 0.6)"
   ]
  },
  {
   "cell_type": "code",
   "execution_count": null,
   "id": "37b8ff40",
   "metadata": {},
   "outputs": [],
   "source": [
    "xgb_lag_predictions = pd.Series(xgb_lag_predictions, index = y_test.index)\n",
    "mean_squared_error(y_test, xgb_lag_predictions)"
   ]
  },
  {
   "cell_type": "markdown",
   "id": "89a43b51",
   "metadata": {},
   "source": [
    "### XGBoost only with lags"
   ]
  },
  {
   "cell_type": "code",
   "execution_count": null,
   "id": "fdc69a76",
   "metadata": {},
   "outputs": [],
   "source": [
    "xgb_only_lag_predictions = one_step_ahead_forecasting(X = X_only_lag, y = y_only_lag, \n",
    "                                                      model = xgb, starting_point = 0.6)"
   ]
  },
  {
   "cell_type": "code",
   "execution_count": null,
   "id": "ee48c213",
   "metadata": {},
   "outputs": [],
   "source": [
    "xgb_only_lag_predictions = pd.Series(xgb_only_lag_predictions, index = y_test.index)\n",
    "mean_squared_error(y_test, xgb_only_lag_predictions)"
   ]
  },
  {
   "cell_type": "code",
   "execution_count": null,
   "id": "8a7ed6f7",
   "metadata": {},
   "outputs": [],
   "source": []
  }
 ],
 "metadata": {
  "kernelspec": {
   "display_name": "Python 3 (ipykernel)",
   "language": "python",
   "name": "python3"
  },
  "language_info": {
   "codemirror_mode": {
    "name": "ipython",
    "version": 3
   },
   "file_extension": ".py",
   "mimetype": "text/x-python",
   "name": "python",
   "nbconvert_exporter": "python",
   "pygments_lexer": "ipython3",
   "version": "3.11.3"
  }
 },
 "nbformat": 4,
 "nbformat_minor": 5
}
